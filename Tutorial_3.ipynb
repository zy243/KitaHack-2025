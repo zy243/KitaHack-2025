{
  "nbformat": 4,
  "nbformat_minor": 0,
  "metadata": {
    "colab": {
      "provenance": [],
      "authorship_tag": "ABX9TyOR+8lV1LrPeGUPR6zPTQJj",
      "include_colab_link": true
    },
    "kernelspec": {
      "name": "python3",
      "display_name": "Python 3"
    },
    "language_info": {
      "name": "python"
    }
  },
  "cells": [
    {
      "cell_type": "markdown",
      "metadata": {
        "id": "view-in-github",
        "colab_type": "text"
      },
      "source": [
        "<a href=\"https://colab.research.google.com/github/zy243/KitaHack-2025/blob/main/Tutorial_3.ipynb\" target=\"_parent\"><img src=\"https://colab.research.google.com/assets/colab-badge.svg\" alt=\"Open In Colab\"/></a>"
      ]
    },
    {
      "cell_type": "code",
      "source": [
        "import io\n",
        "import requests\n",
        "from google.colab import drive\n",
        "drive.mount('/content/gdrive', force_remount=True)"
      ],
      "metadata": {
        "colab": {
          "base_uri": "https://localhost:8080/"
        },
        "id": "XI656DNVm0vO",
        "outputId": "869adbb3-96ec-45bc-d2e9-2292920637bc"
      },
      "execution_count": 30,
      "outputs": [
        {
          "output_type": "stream",
          "name": "stdout",
          "text": [
            "Mounted at /content/gdrive\n"
          ]
        }
      ]
    },
    {
      "cell_type": "code",
      "source": [
        "# Import dataset\n",
        "import pandas as pd\n",
        "DATA_DIR_1 = file_path = \"/content/Banking_Marketing.csv\"\n",
        "Banking_Marketing_df = pd.read_csv (DATA_DIR_1, header=0)\n"
      ],
      "metadata": {
        "id": "DjzSM7QLnEpo"
      },
      "execution_count": 6,
      "outputs": []
    },
    {
      "cell_type": "code",
      "source": [
        "# Determine the datatype of Each Column by using dtypes\n",
        "print (Banking_Marketing_df.dtypes)"
      ],
      "metadata": {
        "colab": {
          "base_uri": "https://localhost:8080/"
        },
        "id": "y8Qx-O25nfo7",
        "outputId": "c02b02b1-e7a3-4c37-ceb1-a864ce413b84"
      },
      "execution_count": 7,
      "outputs": [
        {
          "output_type": "stream",
          "name": "stdout",
          "text": [
            "age               float64\n",
            "job                object\n",
            "marital            object\n",
            "education          object\n",
            "default            object\n",
            "housing            object\n",
            "loan               object\n",
            "contact            object\n",
            "month              object\n",
            "day_of_week        object\n",
            "duration          float64\n",
            "campaign            int64\n",
            "pdays               int64\n",
            "previous            int64\n",
            "poutcome           object\n",
            "emp_var_rate      float64\n",
            "cons_price_idx    float64\n",
            "cons_conf_idx     float64\n",
            "euribor3m         float64\n",
            "nr_employed       float64\n",
            "y                   int64\n",
            "dtype: object\n"
          ]
        }
      ]
    },
    {
      "cell_type": "code",
      "source": [
        "print(\"Find missing value of each column using isna()\")\n",
        "print (Banking_Marketing_df.isna().sum())"
      ],
      "metadata": {
        "colab": {
          "base_uri": "https://localhost:8080/"
        },
        "id": "a7epCJROnk4w",
        "outputId": "3e6bfff0-f75e-4060-82bf-8078de9716ce"
      },
      "execution_count": 8,
      "outputs": [
        {
          "output_type": "stream",
          "name": "stdout",
          "text": [
            "Find missing value of each column using isna()\n",
            "age               2\n",
            "job               0\n",
            "marital           0\n",
            "education         0\n",
            "default           0\n",
            "housing           0\n",
            "loan              0\n",
            "contact           6\n",
            "month             0\n",
            "day_of_week       0\n",
            "duration          7\n",
            "campaign          0\n",
            "pdays             0\n",
            "previous          0\n",
            "poutcome          0\n",
            "emp_var_rate      0\n",
            "cons_price_idx    0\n",
            "cons_conf_idx     0\n",
            "euribor3m         0\n",
            "nr_employed       0\n",
            "y                 0\n",
            "dtype: int64\n"
          ]
        }
      ]
    },
    {
      "cell_type": "code",
      "source": [
        "print(\"\\nRemove all rows with missing data by using dropna()\")\n",
        "data = Banking_Marketing_df.dropna ()\n",
        "print(data.isna().sum())"
      ],
      "metadata": {
        "colab": {
          "base_uri": "https://localhost:8080/"
        },
        "id": "ENlfcpYwnmwu",
        "outputId": "1dffd4a4-50a9-4f17-b25a-014ba9d660d4"
      },
      "execution_count": 9,
      "outputs": [
        {
          "output_type": "stream",
          "name": "stdout",
          "text": [
            "\n",
            "Remove all rows with missing data by using dropna()\n",
            "age               0\n",
            "job               0\n",
            "marital           0\n",
            "education         0\n",
            "default           0\n",
            "housing           0\n",
            "loan              0\n",
            "contact           0\n",
            "month             0\n",
            "day_of_week       0\n",
            "duration          0\n",
            "campaign          0\n",
            "pdays             0\n",
            "previous          0\n",
            "poutcome          0\n",
            "emp_var_rate      0\n",
            "cons_price_idx    0\n",
            "cons_conf_idx     0\n",
            "euribor3m         0\n",
            "nr_employed       0\n",
            "y                 0\n",
            "dtype: int64\n"
          ]
        }
      ]
    },
    {
      "cell_type": "code",
      "source": [
        "print(Banking_Marketing_df.isna().sum())"
      ],
      "metadata": {
        "colab": {
          "base_uri": "https://localhost:8080/"
        },
        "id": "yYmYMLR8no8e",
        "outputId": "41bf5de0-b08f-4947-ae8b-659e55a094d9"
      },
      "execution_count": 10,
      "outputs": [
        {
          "output_type": "stream",
          "name": "stdout",
          "text": [
            "age               2\n",
            "job               0\n",
            "marital           0\n",
            "education         0\n",
            "default           0\n",
            "housing           0\n",
            "loan              0\n",
            "contact           6\n",
            "month             0\n",
            "day_of_week       0\n",
            "duration          7\n",
            "campaign          0\n",
            "pdays             0\n",
            "previous          0\n",
            "poutcome          0\n",
            "emp_var_rate      0\n",
            "cons_price_idx    0\n",
            "cons_conf_idx     0\n",
            "euribor3m         0\n",
            "nr_employed       0\n",
            "y                 0\n",
            "dtype: int64\n"
          ]
        }
      ]
    },
    {
      "cell_type": "code",
      "source": [
        "# Computation of the Mean value by using mean ()\n",
        "mean_age = Banking_Marketing_df.age.mean ()\n",
        "print()\n",
        "print (\"Mean age: %.2f\" % mean_age)\n",
        "\n",
        "# Impute the missing data with its mean by using fillna ()\n",
        "Banking_Marketing_df.age.fillna(mean_age, inplace=True)\n",
        "print(\"\\nImpute missing data with mean value:\")\n",
        "print (Banking_Marketing_df.isna().sum())"
      ],
      "metadata": {
        "colab": {
          "base_uri": "https://localhost:8080/"
        },
        "id": "5vzk25f1nseN",
        "outputId": "ed92a725-5fe2-4c67-ee57-970f4ba1e053"
      },
      "execution_count": 11,
      "outputs": [
        {
          "output_type": "stream",
          "name": "stdout",
          "text": [
            "\n",
            "Mean age: 40.02\n",
            "\n",
            "Impute missing data with mean value:\n",
            "age               0\n",
            "job               0\n",
            "marital           0\n",
            "education         0\n",
            "default           0\n",
            "housing           0\n",
            "loan              0\n",
            "contact           6\n",
            "month             0\n",
            "day_of_week       0\n",
            "duration          7\n",
            "campaign          0\n",
            "pdays             0\n",
            "previous          0\n",
            "poutcome          0\n",
            "emp_var_rate      0\n",
            "cons_price_idx    0\n",
            "cons_conf_idx     0\n",
            "euribor3m         0\n",
            "nr_employed       0\n",
            "y                 0\n",
            "dtype: int64\n"
          ]
        },
        {
          "output_type": "stream",
          "name": "stderr",
          "text": [
            "<ipython-input-11-bec04e9785bd>:7: FutureWarning: A value is trying to be set on a copy of a DataFrame or Series through chained assignment using an inplace method.\n",
            "The behavior will change in pandas 3.0. This inplace method will never work because the intermediate object on which we are setting values always behaves as a copy.\n",
            "\n",
            "For example, when doing 'df[col].method(value, inplace=True)', try using 'df.method({col: value}, inplace=True)' or df[col] = df[col].method(value) instead, to perform the operation inplace on the original object.\n",
            "\n",
            "\n",
            "  Banking_Marketing_df.age.fillna(mean_age, inplace=True)\n"
          ]
        }
      ]
    },
    {
      "cell_type": "code",
      "source": [
        "# Computation of Median value by using median ()\n",
        "# used median because the 'duration' variable is too diverse\n",
        "median_duration = Banking_Marketing_df.duration.median()\n",
        "print (\"\\nMedian duration: %.2f\" % median_duration)\n",
        "\n",
        "# Impute the missing data with its median by using fillna ()\n",
        "Banking_Marketing_df.duration.fillna(median_duration, inplace=True)\n",
        "print(\"\\nImpute missing data with median value:\")\n",
        "print (Banking_Marketing_df.isna().sum())"
      ],
      "metadata": {
        "colab": {
          "base_uri": "https://localhost:8080/"
        },
        "id": "Vlbvqih3ntH2",
        "outputId": "53c080fa-d1ec-491d-a9fc-7987c9367b0e"
      },
      "execution_count": 12,
      "outputs": [
        {
          "output_type": "stream",
          "name": "stdout",
          "text": [
            "\n",
            "Median duration: 180.00\n",
            "\n",
            "Impute missing data with median value:\n",
            "age               0\n",
            "job               0\n",
            "marital           0\n",
            "education         0\n",
            "default           0\n",
            "housing           0\n",
            "loan              0\n",
            "contact           6\n",
            "month             0\n",
            "day_of_week       0\n",
            "duration          0\n",
            "campaign          0\n",
            "pdays             0\n",
            "previous          0\n",
            "poutcome          0\n",
            "emp_var_rate      0\n",
            "cons_price_idx    0\n",
            "cons_conf_idx     0\n",
            "euribor3m         0\n",
            "nr_employed       0\n",
            "y                 0\n",
            "dtype: int64\n"
          ]
        },
        {
          "output_type": "stream",
          "name": "stderr",
          "text": [
            "<ipython-input-12-b70db2655b5e>:7: FutureWarning: A value is trying to be set on a copy of a DataFrame or Series through chained assignment using an inplace method.\n",
            "The behavior will change in pandas 3.0. This inplace method will never work because the intermediate object on which we are setting values always behaves as a copy.\n",
            "\n",
            "For example, when doing 'df[col].method(value, inplace=True)', try using 'df.method({col: value}, inplace=True)' or df[col] = df[col].method(value) instead, to perform the operation inplace on the original object.\n",
            "\n",
            "\n",
            "  Banking_Marketing_df.duration.fillna(median_duration, inplace=True)\n"
          ]
        }
      ]
    },
    {
      "cell_type": "code",
      "source": [
        "# Computation of the Mean value by using mean ()\n",
        "mean_age = Banking_Marketing_df.age.mean ()\n",
        "print()\n",
        "print (\"Mean age: %.2f\" % mean_age)\n",
        "\n",
        "# Impute the missing data with its mean by using fillna ()\n",
        "Banking_Marketing_df.age.fillna(mean_age, inplace=True)\n",
        "print(\"\\nImpute missing data with mean value:\")\n",
        "print (Banking_Marketing_df.isna().sum())\n",
        "\n",
        "# Computation of Median value by using median ()\n",
        "# used median because the 'duration' variable is too diverse\n",
        "median_duration = Banking_Marketing_df.duration.median()\n",
        "print (\"\\nMedian duration: %.2f\" % median_duration)\n",
        "\n",
        "# Impute the missing data with its median by using fillna ()\n",
        "Banking_Marketing_df.duration.fillna(median_duration, inplace=True)\n",
        "print(\"\\nImpute missing data with median value:\")\n",
        "print (Banking_Marketing_df.isna().sum())\n",
        "\n",
        "# Impute Categorical Data with its mode by using mode ()\n",
        "# find out the mode\n",
        "mode_contact = Banking_Marketing_df.contact.mode()[0]\n",
        "print(\"\\nImpute categorical data with its mode:\")\n",
        "print (mode_contact)\n",
        "\n",
        "# impute using fillna. Used mode to find the most popular contact\n",
        "Banking_Marketing_df.contact.fillna (mode_contact, inplace = True)\n",
        "print(\"\\nImpute missing data with mode (most popular contact):\")\n",
        "print (Banking_Marketing_df.isna().sum())"
      ],
      "metadata": {
        "colab": {
          "base_uri": "https://localhost:8080/"
        },
        "id": "yT4li0Dunvcg",
        "outputId": "d8ab704e-7a1c-48b6-ab79-64e22d1837ad"
      },
      "execution_count": 13,
      "outputs": [
        {
          "output_type": "stream",
          "name": "stdout",
          "text": [
            "\n",
            "Mean age: 40.02\n",
            "\n",
            "Impute missing data with mean value:\n",
            "age               0\n",
            "job               0\n",
            "marital           0\n",
            "education         0\n",
            "default           0\n",
            "housing           0\n",
            "loan              0\n",
            "contact           6\n",
            "month             0\n",
            "day_of_week       0\n",
            "duration          0\n",
            "campaign          0\n",
            "pdays             0\n",
            "previous          0\n",
            "poutcome          0\n",
            "emp_var_rate      0\n",
            "cons_price_idx    0\n",
            "cons_conf_idx     0\n",
            "euribor3m         0\n",
            "nr_employed       0\n",
            "y                 0\n",
            "dtype: int64\n",
            "\n",
            "Median duration: 180.00\n",
            "\n",
            "Impute missing data with median value:\n",
            "age               0\n",
            "job               0\n",
            "marital           0\n",
            "education         0\n",
            "default           0\n",
            "housing           0\n",
            "loan              0\n",
            "contact           6\n",
            "month             0\n",
            "day_of_week       0\n",
            "duration          0\n",
            "campaign          0\n",
            "pdays             0\n",
            "previous          0\n",
            "poutcome          0\n",
            "emp_var_rate      0\n",
            "cons_price_idx    0\n",
            "cons_conf_idx     0\n",
            "euribor3m         0\n",
            "nr_employed       0\n",
            "y                 0\n",
            "dtype: int64\n",
            "\n",
            "Impute categorical data with its mode:\n",
            "cellular\n",
            "\n",
            "Impute missing data with mode (most popular contact):\n",
            "age               0\n",
            "job               0\n",
            "marital           0\n",
            "education         0\n",
            "default           0\n",
            "housing           0\n",
            "loan              0\n",
            "contact           0\n",
            "month             0\n",
            "day_of_week       0\n",
            "duration          0\n",
            "campaign          0\n",
            "pdays             0\n",
            "previous          0\n",
            "poutcome          0\n",
            "emp_var_rate      0\n",
            "cons_price_idx    0\n",
            "cons_conf_idx     0\n",
            "euribor3m         0\n",
            "nr_employed       0\n",
            "y                 0\n",
            "dtype: int64\n"
          ]
        },
        {
          "output_type": "stream",
          "name": "stderr",
          "text": [
            "<ipython-input-13-3e8c2878a846>:7: FutureWarning: A value is trying to be set on a copy of a DataFrame or Series through chained assignment using an inplace method.\n",
            "The behavior will change in pandas 3.0. This inplace method will never work because the intermediate object on which we are setting values always behaves as a copy.\n",
            "\n",
            "For example, when doing 'df[col].method(value, inplace=True)', try using 'df.method({col: value}, inplace=True)' or df[col] = df[col].method(value) instead, to perform the operation inplace on the original object.\n",
            "\n",
            "\n",
            "  Banking_Marketing_df.age.fillna(mean_age, inplace=True)\n",
            "<ipython-input-13-3e8c2878a846>:17: FutureWarning: A value is trying to be set on a copy of a DataFrame or Series through chained assignment using an inplace method.\n",
            "The behavior will change in pandas 3.0. This inplace method will never work because the intermediate object on which we are setting values always behaves as a copy.\n",
            "\n",
            "For example, when doing 'df[col].method(value, inplace=True)', try using 'df.method({col: value}, inplace=True)' or df[col] = df[col].method(value) instead, to perform the operation inplace on the original object.\n",
            "\n",
            "\n",
            "  Banking_Marketing_df.duration.fillna(median_duration, inplace=True)\n",
            "<ipython-input-13-3e8c2878a846>:28: FutureWarning: A value is trying to be set on a copy of a DataFrame or Series through chained assignment using an inplace method.\n",
            "The behavior will change in pandas 3.0. This inplace method will never work because the intermediate object on which we are setting values always behaves as a copy.\n",
            "\n",
            "For example, when doing 'df[col].method(value, inplace=True)', try using 'df.method({col: value}, inplace=True)' or df[col] = df[col].method(value) instead, to perform the operation inplace on the original object.\n",
            "\n",
            "\n",
            "  Banking_Marketing_df.contact.fillna (mode_contact, inplace = True)\n"
          ]
        }
      ]
    },
    {
      "cell_type": "code",
      "source": [
        "DATA_DIR_2 = \"/content/german_credit_card.csv\"\n",
        "german_credit_df = pd.read_csv (DATA_DIR_2, header=0)"
      ],
      "metadata": {
        "id": "BAl64GnvnyMM"
      },
      "execution_count": 14,
      "outputs": []
    },
    {
      "cell_type": "code",
      "source": [
        "# Display a BoxPlot\n",
        "import pandas as pd\n",
        "import numpy as np\n",
        "import matplotlib\n",
        "import seaborn as sbn\n",
        "sbn.boxplot(german_credit_df['Age'])\n",
        "\n",
        "# Compute the Interquartile Range (IQR)\n",
        "Q1 = german_credit_df['Age'].quantile(0.25)\n",
        "Q3 = german_credit_df['Age'].quantile(0.75)\n",
        "IQR = Q3 - Q1\n",
        "print (\"IQR: %.2f\" %IQR)\n",
        "\n",
        "# Calculate the Lower and Upper Fence\n",
        "Lower_Fence = Q1 - (1.5 * IQR)\n",
        "print (\"Lower_Fence: %.2f\" %Lower_Fence)\n",
        "Upper_Fence = Q3 + (1.5 * IQR)\n",
        "print (\"Upper_Fence: %.2f\" %Upper_Fence)\n",
        "\n",
        "# Display Outliers and Filtering Out the Outliers\n",
        "print(\"\\nDisplay Outliers\")\n",
        "print (german_credit_df[((german_credit_df[\"Age\"] < Lower_Fence) | (german_credit_df[\"Age\"] > Upper_Fence))])\n",
        "\n",
        "# display data with outliers filtered out, use ~ to filter\n",
        "print(\"\\nDisplay data without outliers\")\n",
        "print (german_credit_df[~((german_credit_df[\"Age\"] < Lower_Fence) | (german_credit_df[\"Age\"] > Upper_Fence))])"
      ],
      "metadata": {
        "colab": {
          "base_uri": "https://localhost:8080/",
          "height": 1000
        },
        "id": "_bMTpUcNn01l",
        "outputId": "462c2563-6efc-4faf-ef26-eaa642a61aed"
      },
      "execution_count": 15,
      "outputs": [
        {
          "output_type": "stream",
          "name": "stdout",
          "text": [
            "IQR: 15.00\n",
            "Lower_Fence: 4.50\n",
            "Upper_Fence: 64.50\n",
            "\n",
            "Display Outliers\n",
            "     Unnamed: 0  Unnamed: 1  Age     Sex  Job Housing Saving accounts  \\\n",
            "0           NaN           0   67    male    2     own             NaN   \n",
            "75          NaN          75   66    male    3    free          little   \n",
            "137         NaN         137   66    male    1     own      quite rich   \n",
            "163         NaN         163   70    male    3    free          little   \n",
            "179         NaN         179   65    male    2     own          little   \n",
            "186         NaN         186   74  female    3    free          little   \n",
            "187         NaN         187   68    male    0    free          little   \n",
            "213         NaN         213   66    male    3     own          little   \n",
            "330         NaN         330   75    male    3    free          little   \n",
            "430         NaN         430   74    male    1     own          little   \n",
            "438         NaN         438   65    male    0     own          little   \n",
            "536         NaN         536   75  female    3     own             NaN   \n",
            "554         NaN         554   67  female    3     own          little   \n",
            "606         NaN         606   74    male    3     own          little   \n",
            "624         NaN         624   65    male    2    free          little   \n",
            "723         NaN         723   66  female    1     own      quite rich   \n",
            "756         NaN         756   74    male    0     own          little   \n",
            "774         NaN         774   66    male    0    free      quite rich   \n",
            "779         NaN         779   67  female    2     own          little   \n",
            "807         NaN         807   65    male    2     own             NaN   \n",
            "846         NaN         846   68    male    2    rent             NaN   \n",
            "883         NaN         883   65  female    0     own          little   \n",
            "917         NaN         917   68    male    3     own          little   \n",
            "\n",
            "    Checking account  Credit amount  Duration    Purpose  \n",
            "0             little           1169         6   radio/TV  \n",
            "75            little           1526        12        car  \n",
            "137         moderate            766        12   radio/TV  \n",
            "163         moderate           7308        10        car  \n",
            "179           little            571        21        car  \n",
            "186         moderate           5129         9        car  \n",
            "187         moderate           1175        16        car  \n",
            "213             rich           1908        30   business  \n",
            "330           little           6615        24        car  \n",
            "430              NaN           3448         5   business  \n",
            "438           little           3394        42    repairs  \n",
            "536           little           1374         6        car  \n",
            "554         moderate           1199         9  education  \n",
            "606              NaN           4526        24   business  \n",
            "624           little           2600        18   radio/TV  \n",
            "723         moderate            790         9   radio/TV  \n",
            "756             rich           1299         6        car  \n",
            "774             rich           1480        12        car  \n",
            "779         moderate           3872        18    repairs  \n",
            "807              NaN            930        12   radio/TV  \n",
            "846              NaN           6761        18        car  \n",
            "883              NaN           1098        18   radio/TV  \n",
            "917           little          14896         6        car  \n",
            "\n",
            "Display data without outliers\n",
            "     Unnamed: 0  Unnamed: 1  Age     Sex  Job Housing Saving accounts  \\\n",
            "1           NaN           1   22  female    2     own          little   \n",
            "2           NaN           2   49    male    1     own          little   \n",
            "3           NaN           3   45    male    2    free          little   \n",
            "4           NaN           4   53    male    2    free          little   \n",
            "5           NaN           5   35    male    1    free             NaN   \n",
            "..          ...         ...  ...     ...  ...     ...             ...   \n",
            "995         NaN         995   31  female    1     own          little   \n",
            "996         NaN         996   40    male    3     own          little   \n",
            "997         NaN         997   38    male    2     own          little   \n",
            "998         NaN         998   23    male    2    free          little   \n",
            "999         NaN         999   27    male    2     own        moderate   \n",
            "\n",
            "    Checking account  Credit amount  Duration              Purpose  \n",
            "1           moderate           5951        48             radio/TV  \n",
            "2                NaN           2096        12            education  \n",
            "3             little           7882        42  furniture/equipment  \n",
            "4             little           4870        24                  car  \n",
            "5                NaN           9055        36            education  \n",
            "..               ...            ...       ...                  ...  \n",
            "995              NaN           1736        12  furniture/equipment  \n",
            "996           little           3857        30                  car  \n",
            "997              NaN            804        12             radio/TV  \n",
            "998           little           1845        45             radio/TV  \n",
            "999         moderate           4576        45                  car  \n",
            "\n",
            "[977 rows x 11 columns]\n"
          ]
        },
        {
          "output_type": "display_data",
          "data": {
            "text/plain": [
              "<Figure size 640x480 with 1 Axes>"
            ],
            "image/png": "[encoded data removed]"
          },
          "metadata": {}
        }
      ]
    },
    {
      "cell_type": "code",
      "source": [
        "german_credit_remOutliers = (german_credit_df[~((german_credit_df[\"Age\"] < Lower_Fence) | (german_credit_df[\"Age\"] > Upper_Fence))])\n",
        "german_credit_remOutliers.shape"
      ],
      "metadata": {
        "colab": {
          "base_uri": "https://localhost:8080/"
        },
        "id": "1pzfic-YqEV5",
        "outputId": "4c647da3-bb73-4072-b2a7-f36bff7d5c81"
      },
      "execution_count": 16,
      "outputs": [
        {
          "output_type": "execute_result",
          "data": {
            "text/plain": [
              "(977, 11)"
            ]
          },
          "metadata": {},
          "execution_count": 16
        }
      ]
    },
    {
      "cell_type": "code",
      "source": [
        "# Compute new quantile range after remove outliers\n",
        "# Compute the Interquartile Range (IQR)\n",
        "Q1b = german_credit_remOutliers['Age'].quantile(0.25)\n",
        "Q3b = german_credit_remOutliers['Age'].quantile(0.75)\n",
        "IQRb = Q3b - Q1b\n",
        "print (\"IQRb: %.2f\" %IQRb)\n",
        "\n",
        "# Calculate the Lower and Upper Fence\n",
        "Lower_Fence_b = Q1b - (1.5 * IQRb)\n",
        "print (\"Lower_Fence: %.2f\" %Lower_Fence_b)\n",
        "Upper_Fence_b = Q3 + (1.5 * IQRb)\n",
        "print (\"Upper_Fence: %.2f\" %Upper_Fence_b)"
      ],
      "metadata": {
        "colab": {
          "base_uri": "https://localhost:8080/"
        },
        "id": "SrehZWcnn4XJ",
        "outputId": "352c4010-4159-4640-8d69-dc4dc386e3a8"
      },
      "execution_count": 17,
      "outputs": [
        {
          "output_type": "stream",
          "name": "stdout",
          "text": [
            "IQRb: 14.00\n",
            "Lower_Fence: 6.00\n",
            "Upper_Fence: 63.00\n"
          ]
        }
      ]
    },
    {
      "cell_type": "code",
      "source": [
        "sbn.boxplot(german_credit_remOutliers['Age'])\n",
        "# Use showfliers=False if you want to disable outliers from boxplot"
      ],
      "metadata": {
        "colab": {
          "base_uri": "https://localhost:8080/",
          "height": 428
        },
        "id": "vDvCn_K2qN5N",
        "outputId": "8a1a9aef-ef0a-4d21-f603-51a3aa31dcf9"
      },
      "execution_count": 18,
      "outputs": [
        {
          "output_type": "execute_result",
          "data": {
            "text/plain": [
              "<Axes: ylabel='Age'>"
            ]
          },
          "metadata": {},
          "execution_count": 18
        },
        {
          "output_type": "display_data",
          "data": {
            "text/plain": [
              "<Figure size 640x480 with 1 Axes>"
            ],
            "image/png": "[encoded data removed]"
          },
          "metadata": {}
        }
      ]
    },
    {
      "cell_type": "code",
      "source": [
        "# Check condition based on the firstly calculated IQR → results return empty df\n",
        "# Display Outliers and Filtering Out the Outliers\n",
        "print(\"\\nDisplay Outliers\")\n",
        "print (german_credit_remOutliers[((german_credit_remOutliers[\"Age\"] < Lower_Fence) | (german_credit_remOutliers[\"Age\"] > Upper_Fence))])"
      ],
      "metadata": {
        "colab": {
          "base_uri": "https://localhost:8080/"
        },
        "id": "T3gmKK1PqQ_w",
        "outputId": "b41746a2-d99f-46b1-a7cb-91dc4b3602f9"
      },
      "execution_count": 19,
      "outputs": [
        {
          "output_type": "stream",
          "name": "stdout",
          "text": [
            "\n",
            "Display Outliers\n",
            "Empty DataFrame\n",
            "Columns: [Unnamed: 0, Unnamed: 1, Age, Sex, Job, Housing, Saving accounts, Checking account, Credit amount, Duration, Purpose]\n",
            "Index: []\n"
          ]
        }
      ]
    },
    {
      "cell_type": "code",
      "source": [
        "# Check condition based on the newly calculated IQR → results return 5 rows with outliers\n",
        "# Note that the age 64 > new upper fence 63\n",
        "# Display Outliers and Filtering Out the Outliers\n",
        "print(\"\\nDisplay Outliers\")\n",
        "print (german_credit_remOutliers[((german_credit_remOutliers[\"Age\"] < Lower_Fence_b) | (german_credit_remOutliers[\"Age\"] > Upper_Fence_b))])"
      ],
      "metadata": {
        "colab": {
          "base_uri": "https://localhost:8080/"
        },
        "id": "XH2qfozPqTMD",
        "outputId": "ce8f69a7-471f-4283-e8a9-9069e239dc48"
      },
      "execution_count": 20,
      "outputs": [
        {
          "output_type": "stream",
          "name": "stdout",
          "text": [
            "\n",
            "Display Outliers\n",
            "     Unnamed: 0  Unnamed: 1  Age     Sex  Job Housing Saving accounts  \\\n",
            "219         NaN         219   64  female    2     own          little   \n",
            "629         NaN         629   64    male    1     own             NaN   \n",
            "678         NaN         678   64    male    1    rent          little   \n",
            "976         NaN         976   64  female    2     own          little   \n",
            "987         NaN         987   64  female    2     own        moderate   \n",
            "\n",
            "    Checking account  Credit amount  Duration    Purpose  \n",
            "219              NaN           1364        10        car  \n",
            "629              NaN           3832         9  education  \n",
            "678           little           2384        24   radio/TV  \n",
            "976         moderate            753         6   radio/TV  \n",
            "987              NaN           1409        13   radio/TV  \n"
          ]
        }
      ]
    },
    {
      "cell_type": "code",
      "source": [
        "# Import dataset\n",
        "import pandas as pd\n",
        "DATA_DIR_3 = \"/content/mark.csv\"\n",
        "DATA_DIR_4 = \"/content/student.csv\"\n",
        "student_df = pd.read_csv (DATA_DIR_3, header=0)\n",
        "marks_df = pd.read_csv (DATA_DIR_4, header=0)"
      ],
      "metadata": {
        "id": "T-A0-Ro5qdXs"
      },
      "execution_count": 22,
      "outputs": []
    },
    {
      "cell_type": "code",
      "source": [
        "#Checking of Data\n",
        "print (student_df.head())\n",
        "print (marks_df.head())\n",
        "\n",
        "# Merging of DataFrame using the pd.merge ()\n",
        "df = pd.merge(student_df, marks_df, on = \"Student_id\")\n",
        "print (df.head (10))"
      ],
      "metadata": {
        "colab": {
          "base_uri": "https://localhost:8080/"
        },
        "id": "aFfayFhAqoOT",
        "outputId": "ebafd884-173b-463f-fb95-f0ab4f69c40d"
      },
      "execution_count": 23,
      "outputs": [
        {
          "output_type": "stream",
          "name": "stdout",
          "text": [
            "   Student_id  Mark     City\n",
            "0           1    95  Chennai\n",
            "1           2    70    Delhi\n",
            "2           3    98   Mumbai\n",
            "3           4    75     Pune\n",
            "4           5    89    Kochi\n",
            "   Student_id  Age  Gender      Grade Employed\n",
            "0           1   19    Male  1st Class      yes\n",
            "1           2   20  Female  2nd Class       no\n",
            "2           3   18    Male  1st Class       no\n",
            "3           4   21  Female  2nd Class       no\n",
            "4           5   19    Male  1st Class       no\n",
            "   Student_id  Mark     City  Age  Gender      Grade Employed\n",
            "0           1    95  Chennai   19    Male  1st Class      yes\n",
            "1           2    70    Delhi   20  Female  2nd Class       no\n",
            "2           3    98   Mumbai   18    Male  1st Class       no\n",
            "3           4    75     Pune   21  Female  2nd Class       no\n",
            "4           5    89    Kochi   19    Male  1st Class       no\n",
            "5           6    69  Gwalior   20    Male  2nd Class      yes\n",
            "6           7    52   Bhopal   19  Female  3rd Class      yes\n",
            "7           8    54  Chennai   21    Male  3rd Class      yes\n",
            "8           9    55    Delhi   22  Female  3rd Class      yes\n",
            "9          10    94   Mumbai   21    Male  1st Class       no\n"
          ]
        }
      ]
    },
    {
      "cell_type": "code",
      "source": [
        "import numpy as np\n",
        "\n",
        "# Separating Categorical Columns from Dataframe using select_dtypes()\n",
        "df_categorical = student_df.select_dtypes(exclude=[np.number]) # exclude numerical using numpy\n",
        "print(df_categorical)"
      ],
      "metadata": {
        "colab": {
          "base_uri": "https://localhost:8080/"
        },
        "id": "toKEG1q3qrXM",
        "outputId": "45115ba6-9ceb-4da1-e217-c068ff92651a"
      },
      "execution_count": 29,
      "outputs": [
        {
          "output_type": "stream",
          "name": "stdout",
          "text": [
            "        City\n",
            "0    Chennai\n",
            "1      Delhi\n",
            "2     Mumbai\n",
            "3       Pune\n",
            "4      Kochi\n",
            "..       ...\n",
            "227     Pune\n",
            "228  Chennai\n",
            "229    Delhi\n",
            "230   Mumbai\n",
            "231     Pune\n",
            "\n",
            "[232 rows x 1 columns]\n"
          ]
        }
      ]
    },
    {
      "cell_type": "code",
      "source": [
        "if 'Grade' in df_categorical.columns:\n",
        "    print(df_categorical['Grade'].unique())\n",
        "else:\n",
        "    print(\"Column 'Grade' does not exist!\")"
      ],
      "metadata": {
        "colab": {
          "base_uri": "https://localhost:8080/"
        },
        "id": "tC1dxXXgquhN",
        "outputId": "1b856298-434c-4397-c62c-c0ff6bfab262"
      },
      "execution_count": 27,
      "outputs": [
        {
          "output_type": "stream",
          "name": "stdout",
          "text": [
            "Column 'Grade' does not exist!\n"
          ]
        }
      ]
    },
    {
      "cell_type": "code",
      "source": [
        "print(df_categorical.Grade.value_counts())"
      ],
      "metadata": {
        "colab": {
          "base_uri": "https://localhost:8080/",
          "height": 280
        },
        "id": "VX5w1mdxq2F9",
        "outputId": "4628dd15-c419-4c2f-f763-fda29733e079"
      },
      "execution_count": 28,
      "outputs": [
        {
          "output_type": "error",
          "ename": "AttributeError",
          "evalue": "'DataFrame' object has no attribute 'Grade'",
          "traceback": [
            "\u001b[0;31m---------------------------------------------------------------------------\u001b[0m",
            "\u001b[0;31mAttributeError\u001b[0m                            Traceback (most recent call last)",
            "\u001b[0;32m<ipython-input-28-f43ca614cf7d>\u001b[0m in \u001b[0;36m<cell line: 0>\u001b[0;34m()\u001b[0m\n\u001b[0;32m----> 1\u001b[0;31m \u001b[0mprint\u001b[0m\u001b[0;34m(\u001b[0m\u001b[0mdf_categorical\u001b[0m\u001b[0;34m.\u001b[0m\u001b[0mGrade\u001b[0m\u001b[0;34m.\u001b[0m\u001b[0mvalue_counts\u001b[0m\u001b[0;34m(\u001b[0m\u001b[0;34m)\u001b[0m\u001b[0;34m)\u001b[0m\u001b[0;34m\u001b[0m\u001b[0;34m\u001b[0m\u001b[0m\n\u001b[0m",
            "\u001b[0;32m/usr/local/lib/python3.11/dist-packages/pandas/core/generic.py\u001b[0m in \u001b[0;36m__getattr__\u001b[0;34m(self, name)\u001b[0m\n\u001b[1;32m   6297\u001b[0m         ):\n\u001b[1;32m   6298\u001b[0m             \u001b[0;32mreturn\u001b[0m \u001b[0mself\u001b[0m\u001b[0;34m[\u001b[0m\u001b[0mname\u001b[0m\u001b[0;34m]\u001b[0m\u001b[0;34m\u001b[0m\u001b[0;34m\u001b[0m\u001b[0m\n\u001b[0;32m-> 6299\u001b[0;31m         \u001b[0;32mreturn\u001b[0m \u001b[0mobject\u001b[0m\u001b[0;34m.\u001b[0m\u001b[0m__getattribute__\u001b[0m\u001b[0;34m(\u001b[0m\u001b[0mself\u001b[0m\u001b[0;34m,\u001b[0m \u001b[0mname\u001b[0m\u001b[0;34m)\u001b[0m\u001b[0;34m\u001b[0m\u001b[0;34m\u001b[0m\u001b[0m\n\u001b[0m\u001b[1;32m   6300\u001b[0m \u001b[0;34m\u001b[0m\u001b[0m\n\u001b[1;32m   6301\u001b[0m     \u001b[0;34m@\u001b[0m\u001b[0mfinal\u001b[0m\u001b[0;34m\u001b[0m\u001b[0;34m\u001b[0m\u001b[0m\n",
            "\u001b[0;31mAttributeError\u001b[0m: 'DataFrame' object has no attribute 'Grade'"
          ]
        }
      ]
    },
    {
      "cell_type": "code",
      "source": [
        "print(df_categorical.Gender.value_counts())"
      ],
      "metadata": {
        "id": "K35u0uU_q2l5"
      },
      "execution_count": null,
      "outputs": []
    },
    {
      "cell_type": "code",
      "source": [
        "print(df_categorical.Employed.value_counts())"
      ],
      "metadata": {
        "id": "frdfqr7yq4Vm"
      },
      "execution_count": null,
      "outputs": []
    },
    {
      "cell_type": "code",
      "source": [
        "df_categorical.Grade.replace({\"1st Class\": 1, \"2nd Class\": 2, \"3rd Class\": 3 }, inplace=True)"
      ],
      "metadata": {
        "id": "1fgf3tQYq6VQ"
      },
      "execution_count": null,
      "outputs": []
    },
    {
      "cell_type": "code",
      "source": [
        "df_categorical.Gender.replace({\"Male\": 0, \"Female\": 1}, inplace=True)"
      ],
      "metadata": {
        "id": "wH5YzrDYq82W"
      },
      "execution_count": null,
      "outputs": []
    },
    {
      "cell_type": "code",
      "source": [
        "df_categorical.Employed.replace({\"yes\": 1, \"no\": 2}, inplace=True)\n",
        "print (df_categorical.head())"
      ],
      "metadata": {
        "id": "A5jKCBR0q-4s"
      },
      "execution_count": null,
      "outputs": []
    },
    {
      "cell_type": "code",
      "source": [
        "# Read Dataset and import LabelEncoder from sklearn.preprocessing package\n",
        "from sklearn.preprocessing import LabelEncoder\n",
        "\n",
        "print (Banking_Marketing_df.head())"
      ],
      "metadata": {
        "id": "aDnDEQ94rAoR"
      },
      "execution_count": null,
      "outputs": []
    },
    {
      "cell_type": "code",
      "source": [
        "# Remove Missing Data\n",
        "Banking_Marketing_df = Banking_Marketing_df.dropna()\n",
        "# Select Non-Numerical Columns\n",
        "data_column_category = Banking_Marketing_df.select_dtypes (exclude=[np.number]).columns\n",
        "print (data_column_category)\n",
        "print (Banking_Marketing_df[data_column_category].head())"
      ],
      "metadata": {
        "id": "TsdWe7GCrCqc"
      },
      "execution_count": null,
      "outputs": []
    },
    {
      "cell_type": "code",
      "source": [
        "# Iterate through column to convert to numeric data using LabelEncoder ()\n",
        "label_encoder = LabelEncoder()\n",
        "for i in data_column_category:\n",
        "    Banking_Marketing_df[i] = label_encoder.fit_transform (Banking_Marketing_df[i])\n",
        "print(\"Label Encoder Data:\")\n",
        "print(Banking_Marketing_df.head())"
      ],
      "metadata": {
        "colab": {
          "base_uri": "https://localhost:8080/",
          "height": 228
        },
        "id": "U0jUWUHkrE9l",
        "outputId": "02e2b362-5854-4d78-cea3-4fecbb052ed9"
      },
      "execution_count": 26,
      "outputs": [
        {
          "output_type": "error",
          "ename": "NameError",
          "evalue": "name 'LabelEncoder' is not defined",
          "traceback": [
            "\u001b[0;31m---------------------------------------------------------------------------\u001b[0m",
            "\u001b[0;31mNameError\u001b[0m                                 Traceback (most recent call last)",
            "\u001b[0;32m<ipython-input-26-a87e50dfa2d5>\u001b[0m in \u001b[0;36m<cell line: 0>\u001b[0;34m()\u001b[0m\n\u001b[1;32m      1\u001b[0m \u001b[0;31m# Iterate through column to convert to numeric data using LabelEncoder ()\u001b[0m\u001b[0;34m\u001b[0m\u001b[0;34m\u001b[0m\u001b[0m\n\u001b[0;32m----> 2\u001b[0;31m \u001b[0mlabel_encoder\u001b[0m \u001b[0;34m=\u001b[0m \u001b[0mLabelEncoder\u001b[0m\u001b[0;34m(\u001b[0m\u001b[0;34m)\u001b[0m\u001b[0;34m\u001b[0m\u001b[0;34m\u001b[0m\u001b[0m\n\u001b[0m\u001b[1;32m      3\u001b[0m \u001b[0;32mfor\u001b[0m \u001b[0mi\u001b[0m \u001b[0;32min\u001b[0m \u001b[0mdata_column_category\u001b[0m\u001b[0;34m:\u001b[0m\u001b[0;34m\u001b[0m\u001b[0;34m\u001b[0m\u001b[0m\n\u001b[1;32m      4\u001b[0m     \u001b[0mBanking_Marketing_df\u001b[0m\u001b[0;34m[\u001b[0m\u001b[0mi\u001b[0m\u001b[0;34m]\u001b[0m \u001b[0;34m=\u001b[0m \u001b[0mlabel_encoder\u001b[0m\u001b[0;34m.\u001b[0m\u001b[0mfit_transform\u001b[0m \u001b[0;34m(\u001b[0m\u001b[0mBanking_Marketing_df\u001b[0m\u001b[0;34m[\u001b[0m\u001b[0mi\u001b[0m\u001b[0;34m]\u001b[0m\u001b[0;34m)\u001b[0m\u001b[0;34m\u001b[0m\u001b[0;34m\u001b[0m\u001b[0m\n\u001b[1;32m      5\u001b[0m \u001b[0mprint\u001b[0m\u001b[0;34m(\u001b[0m\u001b[0;34m\"Label Encoder Data:\"\u001b[0m\u001b[0;34m)\u001b[0m\u001b[0;34m\u001b[0m\u001b[0;34m\u001b[0m\u001b[0m\n",
            "\u001b[0;31mNameError\u001b[0m: name 'LabelEncoder' is not defined"
          ]
        }
      ]
    },
    {
      "cell_type": "code",
      "source": [
        "DATA_DIR_5 = \"\"\n",
        "# Read Dataset\n",
        "from sklearn import preprocessing\n",
        "WholesaleData_df = pd.read_csv (DATA_DIR_5, header=0)\n",
        "print (WholesaleData_df.head())"
      ],
      "metadata": {
        "id": "5hxIC4KkrHUk"
      },
      "execution_count": null,
      "outputs": []
    },
    {
      "cell_type": "code",
      "source": [
        "null_ = WholesaleData_df.isna().any()"
      ],
      "metadata": {
        "id": "EJ1pOxhjrTTa"
      },
      "execution_count": null,
      "outputs": []
    },
    {
      "cell_type": "code",
      "source": [
        "dtypes = WholesaleData_df.dtypes"
      ],
      "metadata": {
        "id": "Z-3AUUVarVSF"
      },
      "execution_count": null,
      "outputs": []
    },
    {
      "cell_type": "code",
      "source": [
        "# Check for Missing Data\n",
        "null_ = WholesaleData_df.isna().any()\n",
        "dtypes = WholesaleData_df.dtypes\n",
        "info = pd.concat ([null_,dtypes], axis = 1, keys = ['Null', 'type'])\n",
        "print(info) # This is different way of viewing data"
      ],
      "metadata": {
        "id": "zt0bc5HIrXE9"
      },
      "execution_count": null,
      "outputs": []
    },
    {
      "cell_type": "code",
      "source": [
        "# Perform Standard Scaling and Implement fit_transform () method\n",
        "std_scale = preprocessing.StandardScaler().fit_transform (WholesaleData_df)\n",
        "scaled_frame = pd.DataFrame (std_scale, columns = WholesaleData_df.columns)\n",
        "print (scaled_frame.head(25))"
      ],
      "metadata": {
        "id": "RfuBBFq3tN96"
      },
      "execution_count": null,
      "outputs": []
    },
    {
      "cell_type": "code",
      "source": [
        "# Using MinMax Scaler Method\n",
        "minmax_scale = preprocessing.MinMaxScaler().fit_transform (WholesaleData_df)\n",
        "scaled_frame = pd.DataFrame (minmax_scale, columns = WholesaleData_df.columns)\n",
        "print (scaled_frame.head())"
      ],
      "metadata": {
        "id": "HG8B7g1ttOvX"
      },
      "execution_count": null,
      "outputs": []
    },
    {
      "cell_type": "code",
      "source": [
        "DATA_DIR_6 = \"/content/gdrive/MyDrive/Colab Notebooks/210412-ITS70304/Student_bucketing.csv\""
      ],
      "metadata": {
        "id": "uj0cGypztQ1m"
      },
      "execution_count": null,
      "outputs": []
    },
    {
      "cell_type": "code",
      "source": [
        "StudentBucketing_df = pd.read_csv (DATA_DIR_6, header=0)\n",
        "print (StudentBucketing_df.head())"
      ],
      "metadata": {
        "id": "oqpmocDrtTUx"
      },
      "execution_count": null,
      "outputs": []
    },
    {
      "cell_type": "code",
      "source": [
        "# Perform Bucketing using pd.cut ()\n",
        "StudentBucketing_df['bucket']=pd.cut(StudentBucketing_df['marks'], 5, labels = ['Poor', 'Below_average', 'Average', 'Above_Average','Excellent'])"
      ],
      "metadata": {
        "id": "9tTGg0QjtVFo"
      },
      "execution_count": null,
      "outputs": []
    },
    {
      "cell_type": "code",
      "source": [
        "print (StudentBucketing_df.head(10))"
      ],
      "metadata": {
        "id": "L6173pLCtXRL"
      },
      "execution_count": null,
      "outputs": []
    },
    {
      "cell_type": "code",
      "source": [
        "# Perform Bucketing using pd.cut ()\n",
        "StudentBucketing_df['bucket']=pd.cut(StudentBucketing_df['marks'], 3, labels = ['Poor', 'Average', 'Excellent'])\n",
        "print (StudentBucketing_df.head(10))"
      ],
      "metadata": {
        "id": "6StpD3tMtY_V"
      },
      "execution_count": null,
      "outputs": []
    },
    {
      "cell_type": "code",
      "source": [],
      "metadata": {
        "id": "1P5KEZdBtadE"
      },
      "execution_count": null,
      "outputs": []
    }
  ]
}